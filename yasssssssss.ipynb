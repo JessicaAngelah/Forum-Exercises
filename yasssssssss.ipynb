{
 "cells": [
  {
   "cell_type": "code",
   "execution_count": 2,
   "metadata": {},
   "outputs": [
    {
     "name": "stdout",
     "output_type": "stream",
     "text": [
      "Enter the radius of the circle:3\n",
      "Area of circle: 28.285714285714285\n"
     ]
    }
   ],
   "source": [
    "#number 1\n",
    "radius = int(input(\"Enter the radius of the circle:\"))\n",
    "pie = 22/7\n",
    "square = radius * radius\n",
    "area = pie * square\n",
    "print(\"Area of circle:\",area)"
   ]
  },
  {
   "cell_type": "code",
   "execution_count": 6,
   "metadata": {},
   "outputs": [
    {
     "name": "stdout",
     "output_type": "stream",
     "text": [
      "Enter your first name:jessica\n",
      "Enter your last name:huang\n",
      "huang jessica\n"
     ]
    }
   ],
   "source": [
    "#number 2\n",
    "first = input(\"Enter your first name:\")\n",
    "last = input(\"Enter your last name:\")\n",
    "print(last,first)"
   ]
  },
  {
   "cell_type": "code",
   "execution_count": 7,
   "metadata": {},
   "outputs": [
    {
     "name": "stdout",
     "output_type": "stream",
     "text": [
      "Red Black\n"
     ]
    }
   ],
   "source": [
    "#number 3\n",
    "color_list = [\"Red\",\"Green\",\"White\",\"Black\"]\n",
    "print(color_list[0],color_list[-1])"
   ]
  },
  {
   "cell_type": "code",
   "execution_count": 11,
   "metadata": {},
   "outputs": [
    {
     "name": "stdout",
     "output_type": "stream",
     "text": [
      "Enter n: 8\n",
      "n+nn+nnn: 584\n"
     ]
    }
   ],
   "source": [
    "#number 4\n",
    "n = int(input(\"Enter n: \"))\n",
    "nn = n * n\n",
    "nnn = nn * n\n",
    "print (\"n+nn+nnn:\",n+nn+nnn)"
   ]
  },
  {
   "cell_type": "code",
   "execution_count": 13,
   "metadata": {},
   "outputs": [
    {
     "name": "stdout",
     "output_type": "stream",
     "text": [
      "volume of sphere with raidus of 6 905.142857142857\n"
     ]
    }
   ],
   "source": [
    "#number 5\n",
    "r = 6\n",
    "cube = r * r * r\n",
    "pie = 22/7\n",
    "four = 4/3\n",
    "v = four * pie * cube\n",
    "print (\"Volume of sphere with raidus of 6:\",v)"
   ]
  },
  {
   "cell_type": "code",
   "execution_count": 16,
   "metadata": {},
   "outputs": [
    {
     "name": "stdout",
     "output_type": "stream",
     "text": [
      "Enter number:18\n",
      "difference 2\n"
     ]
    }
   ],
   "source": [
    "#number 6\n",
    "n = int(input(\"Enter number:\"))\n",
    "if n <= 17:\n",
    "  print(\"Nice\")\n",
    "elif n > 17:\n",
    "    w = (n - 17) * 2\n",
    "    print(\"difference\",w)\n"
   ]
  },
  {
   "cell_type": "code",
   "execution_count": 17,
   "metadata": {},
   "outputs": [
    {
     "name": "stdout",
     "output_type": "stream",
     "text": [
      "Enter first number:1\n",
      "Enter second number:2\n",
      "Enter third number:3\n",
      "6\n"
     ]
    }
   ],
   "source": [
    "#number 7\n",
    "n1 = int(input(\"Enter first number:\"))\n",
    "n2 = int(input(\"Enter second number:\"))\n",
    "n3 = int(input(\"Enter third number:\"))\n",
    "\n",
    "\n",
    "\n",
    "if n1 == n2 == n3:\n",
    "  sum = (n1+n2+n3)*3\n",
    "  print(sum)\n",
    "else:\n",
    "  sum = n1 + n2 + n3\n",
    "  print(sum)\n"
   ]
  },
  {
   "cell_type": "code",
   "execution_count": 18,
   "metadata": {},
   "outputs": [
    {
     "name": "stdout",
     "output_type": "stream",
     "text": [
      "Enter a number: 3\n",
      "This is an odd number.\n"
     ]
    }
   ],
   "source": [
    "#number 8\n",
    "n = int(input(\"Enter a number: \"))\n",
    "mod = n % 2\n",
    "if mod > 0:\n",
    "    print(\"This is an odd number.\")\n",
    "else:\n",
    "    print(\"This is an even number.\")"
   ]
  },
  {
   "cell_type": "code",
   "execution_count": 24,
   "metadata": {},
   "outputs": [
    {
     "name": "stdout",
     "output_type": "stream",
     "text": [
      "Enter letter:b\n",
      "It is not vowel\n"
     ]
    }
   ],
   "source": [
    "#number 9\n",
    "letter = input(\"Enter letter:\")\n",
    "vowel = ['a', 'e', 'i', 'o', 'u', 'A', 'E', 'I', 'O', 'U']\n",
    "\n",
    "if letter in vowel:\n",
    "    print (\"It is a vowel\")\n",
    "else:\n",
    "    print (\"It is not vowel\")"
   ]
  },
  {
   "cell_type": "code",
   "execution_count": 1,
   "metadata": {},
   "outputs": [
    {
     "name": "stdout",
     "output_type": "stream",
     "text": [
      "False\n"
     ]
    }
   ],
   "source": [
    "#number 10\n",
    "x = input(\"Enter value:\")\n",
    "data = [\"1\",\"2\",\"3\",\"5\",\"7\",\"9\",\"11\",\"13\",\"17\",\"19\",\"23\",\"29\",\"31\"]\n",
    "\n",
    "if x in data:\n",
    "   print(\"True\")\n",
    "else:\n",
    "   print(\"False\")"
   ]
  },
  {
   "cell_type": "code",
   "execution_count": 2,
   "metadata": {},
   "outputs": [
    {
     "name": "stdout",
     "output_type": "stream",
     "text": [
      "@\n",
      "@@\n",
      "@@@@@@@@@@@@@@@@@\n",
      "@@@@@\n",
      "@@@\n",
      "@@@@@@@\n",
      "@@@@@@@\n",
      "@@@@@@@\n",
      "@@@@@@@@@\n",
      "@@@@@@@@@@@\n",
      "@@@@@@@@@@@@@\n"
     ]
    }
   ],
   "source": [
    "#number 11\n",
    "num = [1, 2, 17, 5, 3, 7, 7, 7, 9, 11, 13]\n",
    "for n in num:\n",
    "  histogram = ''\n",
    "  times = n\n",
    "  while( times > 0 ):\n",
    "    histogram += '@'\n",
    "    times = times - 1\n",
    "  print(histogram)"
   ]
  },
  {
   "cell_type": "code",
   "execution_count": 3,
   "metadata": {},
   "outputs": [
    {
     "name": "stdout",
     "output_type": "stream",
     "text": [
      "386 462 418 344 236 566 978 328 162 758 918 412 566 826 248 866 950 626 104 58 512 24 892 894 742 958 "
     ]
    }
   ],
   "source": [
    "#number 12\n",
    "numbers = [\n",
    " 386, 462, 47, 418, 907, 344, 236, 375, 823, 566, 597, 978, 328, 615, 953, 345,\n",
    " 399, 162, 758, 219, 918, 237, 412, 566, 826, 248, 866, 950, 626, 949, 687, 217,\n",
    " 815, 67, 104, 58, 512, 24, 892, 894, 767, 553, 81, 379, 843, 831, 445, 742, 717,\n",
    " 958,743, 527 ]\n",
    "\n",
    "\n",
    "for num in numbers:\n",
    " \n",
    "    if num % 2 == 0:\n",
    "        print(num, end=\" \")"
   ]
  },
  {
   "cell_type": "code",
   "execution_count": 32,
   "metadata": {},
   "outputs": [
    {
     "name": "stdout",
     "output_type": "stream",
     "text": [
      "Enter triangle height:3\n",
      "Enter triangle base:3\n",
      "Area of triangle: 4.5\n"
     ]
    }
   ],
   "source": [
    "#number 13\n",
    "h = int(input(\"Enter triangle height:\"))\n",
    "b = int(input(\"Enter triangle base:\"))\n",
    "half = 1/2\n",
    "area = half * b * h\n",
    "print(\"Area of triangle:\",area)"
   ]
  },
  {
   "cell_type": "code",
   "execution_count": 4,
   "metadata": {},
   "outputs": [
    {
     "name": "stdout",
     "output_type": "stream",
     "text": [
      "The LCM is 2\n"
     ]
    }
   ],
   "source": [
    "#number 14 \n",
    "x = int(input(\"Enter the first value:\"))\n",
    "y = int(input(\"Enter the second value:\"))\n",
    "if x > y:\n",
    " greater = x\n",
    "else:\n",
    "  greater = y\n",
    "while(True):\n",
    "  if((greater % x == 0) and (greater % y == 0)):\n",
    "       lcm = greater\n",
    "       break\n",
    "  greater += 1\n",
    "\n",
    "\n",
    "\n",
    "print(\"The LCM is\", lcm)"
   ]
  },
  {
   "cell_type": "code",
   "execution_count": 5,
   "metadata": {},
   "outputs": [
    {
     "name": "stdout",
     "output_type": "stream",
     "text": [
      "6\n"
     ]
    }
   ],
   "source": [
    "#number 15\n",
    "x = int(input('Enter x:'))\n",
    "y = int(input('Enter y:'))\n",
    "z = int(input('Enter z:'))\n",
    "\n",
    "if x == y or y == z or x == z:\n",
    "    sum = 0\n",
    "    print(sum)\n",
    "else:\n",
    "    sum = x + y + z\n",
    "    print(sum)"
   ]
  },
  {
   "cell_type": "code",
   "execution_count": 6,
   "metadata": {},
   "outputs": [
    {
     "name": "stdout",
     "output_type": "stream",
     "text": [
      "x=4, y=3\n",
      "(x + y) * (x + y)\n",
      "49\n"
     ]
    }
   ],
   "source": [
    "#number 16\n",
    "x = 4\n",
    "y = 3\n",
    "\n",
    "a = x + y\n",
    "output = a ** 2\n",
    "print(\"x=4, y=3\")\n",
    "print(\"(x + y) * (x + y)\")\n",
    "print(output)"
   ]
  },
  {
   "cell_type": "code",
   "execution_count": 7,
   "metadata": {},
   "outputs": [
    {
     "name": "stdout",
     "output_type": "stream",
     "text": [
      "amt=100, int=3.4, years=7\n",
      "future value: 12722.79\n"
     ]
    }
   ],
   "source": [
    "#number 17\n",
    "\n",
    "#Sample Data : amt = 10000, int = 3.5, years = 7\n",
    "#Expected Output : 12722.79\n",
    "\n",
    "amt = 10000\n",
    "int = 3.5\n",
    "years = 7\n",
    "future_value = amt*((1+(0.01*int)) ** years)\n",
    "print(\"amt=100, int=3.4, years=7\")\n",
    "print(\"future value:\",round(future_value,2))"
   ]
  },
  {
   "cell_type": "code",
   "execution_count": 8,
   "metadata": {},
   "outputs": [
    {
     "name": "stdout",
     "output_type": "stream",
     "text": [
      "0.0\n"
     ]
    }
   ],
   "source": [
    "#number 18\n",
    "import math\n",
    "\n",
    "x1 = float(input('Enter the value of x (the first point) '))\n",
    "y1 = float(input('Enter the value of y (the first point) '))\n",
    "\n",
    "x2 = float(input('Enter the value of x (the second point) '))\n",
    "y2 = float(input('Enter the value of y (the second point) '))\n",
    "\n",
    "a = (x1-x2)**2\n",
    "b = (y1-y2)**2\n",
    "distance = math.sqrt(a+b)\n",
    "\n",
    "print(distance)"
   ]
  },
  {
   "cell_type": "code",
   "execution_count": 11,
   "metadata": {},
   "outputs": [
    {
     "ename": "TypeError",
     "evalue": "'float' object is not callable",
     "output_type": "error",
     "traceback": [
      "\u001B[1;31m---------------------------------------------------------------------------\u001B[0m",
      "\u001B[1;31mTypeError\u001B[0m                                 Traceback (most recent call last)",
      "Cell \u001B[1;32mIn [11], line 2\u001B[0m\n\u001B[0;32m      1\u001B[0m \u001B[38;5;66;03m#number 19\u001B[39;00m\n\u001B[1;32m----> 2\u001B[0m n \u001B[38;5;241m=\u001B[39m \u001B[38;5;28mint\u001B[39m(\u001B[38;5;28minput\u001B[39m(\u001B[38;5;124m\"\u001B[39m\u001B[38;5;124mEnter a number: \u001B[39m\u001B[38;5;124m\"\u001B[39m))\n\u001B[0;32m      3\u001B[0m \u001B[38;5;28msum\u001B[39m \u001B[38;5;241m=\u001B[39m (n \u001B[38;5;241m*\u001B[39m (n \u001B[38;5;241m+\u001B[39m \u001B[38;5;241m1\u001B[39m)) \u001B[38;5;241m/\u001B[39m \u001B[38;5;241m2\u001B[39m\n\u001B[0;32m      4\u001B[0m \u001B[38;5;28mprint\u001B[39m(\u001B[38;5;124m\"\u001B[39m\u001B[38;5;124mSum of the first\u001B[39m\u001B[38;5;124m\"\u001B[39m, n ,\u001B[38;5;124m\"\u001B[39m\u001B[38;5;124mpositive integers:\u001B[39m\u001B[38;5;124m\"\u001B[39m, \u001B[38;5;28msum\u001B[39m)\n",
      "\u001B[1;31mTypeError\u001B[0m: 'float' object is not callable"
     ]
    }
   ],
   "source": [
    "#number 19\n",
    "n = int(input(\"Enter a number: \"))\n",
    "sum = (n * (n + 1)) / 2\n",
    "print(\"Sum of the first\", n ,\"positive integers:\", sum)"
   ]
  },
  {
   "cell_type": "code",
   "execution_count": 12,
   "metadata": {},
   "outputs": [
    {
     "name": "stdout",
     "output_type": "stream",
     "text": [
      "Enter your height: \n"
     ]
    },
    {
     "ename": "TypeError",
     "evalue": "'float' object is not callable",
     "output_type": "error",
     "traceback": [
      "\u001B[1;31m---------------------------------------------------------------------------\u001B[0m",
      "\u001B[1;31mTypeError\u001B[0m                                 Traceback (most recent call last)",
      "Cell \u001B[1;32mIn [12], line 3\u001B[0m\n\u001B[0;32m      1\u001B[0m \u001B[38;5;66;03m#number 20\u001B[39;00m\n\u001B[0;32m      2\u001B[0m \u001B[38;5;28mprint\u001B[39m(\u001B[38;5;124m\"\u001B[39m\u001B[38;5;124mEnter your height: \u001B[39m\u001B[38;5;124m\"\u001B[39m)\n\u001B[1;32m----> 3\u001B[0m feet \u001B[38;5;241m=\u001B[39m \u001B[38;5;28mint\u001B[39m(\u001B[38;5;28minput\u001B[39m(\u001B[38;5;124m\"\u001B[39m\u001B[38;5;124min feet: \u001B[39m\u001B[38;5;124m\"\u001B[39m))\n\u001B[0;32m      4\u001B[0m inch \u001B[38;5;241m=\u001B[39m \u001B[38;5;28mint\u001B[39m(\u001B[38;5;28minput\u001B[39m(\u001B[38;5;124m\"\u001B[39m\u001B[38;5;124min inches: \u001B[39m\u001B[38;5;124m\"\u001B[39m))\n\u001B[0;32m      6\u001B[0m inch \u001B[38;5;241m+\u001B[39m\u001B[38;5;241m=\u001B[39m feet \u001B[38;5;241m*\u001B[39m \u001B[38;5;241m12\u001B[39m\n",
      "\u001B[1;31mTypeError\u001B[0m: 'float' object is not callable"
     ]
    }
   ],
   "source": [
    "#number 20\n",
    "print(\"Enter your height: \")\n",
    "feet = int(input(\"in feet: \"))\n",
    "inch = int(input(\"in inches: \"))\n",
    "\n",
    "inch += feet * 12\n",
    "cm = round(inch * 2.54, 1)\n",
    "\n",
    "print(\"Your height is : %d cm.\" % cm)"
   ]
  },
  {
   "cell_type": "code",
   "execution_count": null,
   "metadata": {},
   "outputs": [],
   "source": [
    "#number 21\n",
    "import math\n",
    "opp = int(input(\"Enter the opposite of the triangle:\"))\n",
    "adj = int(input(\"Enter the adjacent of the triangle:\"))\n",
    "sq = (opp*opp)+(adj*adj)\n",
    "hypo = math.sqrt(sq)\n",
    "print(hypo)"
   ]
  },
  {
   "cell_type": "code",
   "execution_count": null,
   "metadata": {},
   "outputs": [],
   "source": [
    "#number 22\n",
    "height = float(input(\"Input your height in m: \"))\n",
    "weight = float(input(\"Input your weight in kg: \"))\n",
    "bmi = weight / (height * height)\n",
    "print(\"Your body mass index is: \",bmi)"
   ]
  },
  {
   "cell_type": "code",
   "execution_count": null,
   "metadata": {},
   "outputs": [],
   "source": [
    "#number 23\n",
    "x1 = float(input('Enter the value of x (the first endpoint) '))\n",
    "y1 = float(input('Enter the value of y (the first endpoint) '))\n",
    "\n",
    "x2 = float(input('Enter the value of x (the first endpoint) '))\n",
    "y2 = float(input('Enter the value of y (the first endpoint) '))\n",
    "\n",
    "midpointx = (x1 + x2)/2\n",
    "midpointy = (y1 + y2)/2\n",
    "\n",
    "print(\"The midpoint of line is :\",\"(\",midpointx,\",\",midpointy,')')"
   ]
  },
  {
   "cell_type": "code",
   "execution_count": null,
   "metadata": {},
   "outputs": [],
   "source": [
    "#number 24\n",
    "n=[]\n",
    "for x in range(1500, 2701):\n",
    "    if (x%7==0) and (x%5==0):\n",
    "        n.append(str(x))\n",
    "print(n, end=\" \")"
   ]
  }
 ],
 "metadata": {
  "kernelspec": {
   "display_name": "Python 3 (ipykernel)",
   "language": "python",
   "name": "python3"
  },
  "language_info": {
   "codemirror_mode": {
    "name": "ipython",
    "version": 3
   },
   "file_extension": ".py",
   "mimetype": "text/x-python",
   "name": "python",
   "nbconvert_exporter": "python",
   "pygments_lexer": "ipython3",
   "version": "3.9.13"
  }
 },
 "nbformat": 4,
 "nbformat_minor": 1
}
